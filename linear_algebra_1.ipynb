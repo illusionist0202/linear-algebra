{
 "cells": [
  {
   "cell_type": "code",
   "execution_count": 1,
   "metadata": {},
   "outputs": [],
   "source": [
    "import numpy as np\n",
    "import scipy.linalg as la"
   ]
  },
  {
   "cell_type": "code",
   "execution_count": 2,
   "metadata": {},
   "outputs": [
    {
     "name": "stdout",
     "output_type": "stream",
     "text": [
      "A + B = [[1 5 3]\n",
      " [3 2 2]]\n"
     ]
    }
   ],
   "source": [
    "# Matrix Addition\n",
    "\n",
    "A = np.array([[-4, 6, 3],[0, 1, 2]])\n",
    "B = np.array([[5, -1, 0],\n",
    "              [3, 1, 0]])\n",
    "\n",
    "print(f'A + B = {A+B}')"
   ]
  },
  {
   "cell_type": "code",
   "execution_count": 3,
   "metadata": {},
   "outputs": [
    {
     "name": "stdout",
     "output_type": "stream",
     "text": [
      " Three times A = [[-12  18   9]\n",
      " [  0   3   6]]\n",
      "Two-fifths of A = [[-1.6  2.4  1.2]\n",
      " [ 0.   0.4  0.8]]\n"
     ]
    }
   ],
   "source": [
    "# Scalar Multiplication\n",
    "A = np.array([[-4, 6, 3],[0, 1, 2]])\n",
    "\n",
    "# 3 times A\n",
    "\n",
    "print(f' Three times A = {3*A}')\n",
    "\n",
    "# two-fifths A\n",
    "print(f'Two-fifths of A = {(2/5)*A}')"
   ]
  },
  {
   "cell_type": "code",
   "execution_count": 4,
   "metadata": {},
   "outputs": [
    {
     "name": "stdout",
     "output_type": "stream",
     "text": [
      "[[0. 0. 0.]\n",
      " [0. 0. 0.]\n",
      " [0. 0. 0.]]\n"
     ]
    }
   ],
   "source": [
    "# Zero Matrix or Null Matrix\n",
    "Z = np.zeros((3,3))\n",
    "print(Z)"
   ]
  },
  {
   "cell_type": "code",
   "execution_count": 5,
   "metadata": {},
   "outputs": [
    {
     "name": "stdout",
     "output_type": "stream",
     "text": [
      "[[1. 0. 0. 0.]\n",
      " [0. 1. 0. 0.]\n",
      " [0. 0. 1. 0.]\n",
      " [0. 0. 0. 1.]]\n"
     ]
    }
   ],
   "source": [
    "# Identity Matrix 4x4\n",
    "I_4 = np.eye(4)\n",
    "print(I_4)"
   ]
  },
  {
   "cell_type": "code",
   "execution_count": 6,
   "metadata": {},
   "outputs": [
    {
     "name": "stdout",
     "output_type": "stream",
     "text": [
      "[[ 22  -2  43  42]\n",
      " [ 26 -16  14   6]\n",
      " [ -9   4 -37 -28]]\n"
     ]
    }
   ],
   "source": [
    "# Matrix Multiplication\n",
    "A = np.array([[3, 5, -1],\n",
    "              [4, 0, 2],\n",
    "              [-6,-3,2]])\n",
    "B = np.array([[2,-2,3,1],\n",
    "              [5,0,7,8],\n",
    "              [9,-4,1,1]])\n",
    "\n",
    "print(A@B)"
   ]
  },
  {
   "cell_type": "code",
   "execution_count": 7,
   "metadata": {
    "code_folding": []
   },
   "outputs": [],
   "source": [
    "# Matrix multiplication function\n",
    "# computationally inefficient\n",
    "# TODO: make it computationally efficient\n",
    "def mat_mult(A,B):\n",
    "    i,j = A.shape\n",
    "    j,k = B.shape\n",
    "    C = np.zeros((i,k))\n",
    "    for i in range(A.shape[0]):\n",
    "        for k in range(B.shape[1]):\n",
    "            for j in range(B.shape[0]):\n",
    "\n",
    "                C[i][k] += (A[i][j] * B[j][k])\n",
    "    return C       \n",
    "            "
   ]
  },
  {
   "cell_type": "code",
   "execution_count": 8,
   "metadata": {},
   "outputs": [
    {
     "data": {
      "text/plain": [
       "array([[ 22.,  -2.,  43.,  42.],\n",
       "       [ 26., -16.,  14.,   6.],\n",
       "       [ -9.,   4., -37., -28.]])"
      ]
     },
     "execution_count": 8,
     "metadata": {},
     "output_type": "execute_result"
    }
   ],
   "source": [
    "# Matrix Multiplication\n",
    "A = np.array([[3, 5, -1],\n",
    "              [4, 0, 2],\n",
    "              [-6,-3,2]])\n",
    "B = np.array([[2,-2,3,1],\n",
    "              [5,0,7,8],\n",
    "              [9,-4,1,1]])\n",
    "C = mat_mult(A, B)\n",
    "C"
   ]
  },
  {
   "cell_type": "code",
   "execution_count": 9,
   "metadata": {},
   "outputs": [
    {
     "name": "stdout",
     "output_type": "stream",
     "text": [
      "Matrix A: [[ 40 -70]\n",
      " [-71 -45]]\n",
      "Matrix B: [[-24 -98]\n",
      " [-50 -88]]\n",
      "A X B: [[ 2540  2240]\n",
      " [ 3954 10918]]\n",
      "B X A: [[5998 6090]\n",
      " [4248 7460]]\n"
     ]
    }
   ],
   "source": [
    "# AB != BA\n",
    "# Matrix Multiplication is not commuatative\n",
    "\n",
    "A = np.random.randint(low=-100,high=100,size=(2,2))\n",
    "B = np.random.randint(-100,100,size=(2,2))\n",
    "print(f'Matrix A: {A}')\n",
    "print(f'Matrix B: {B}')\n",
    "print(f'A X B: {A@B}')\n",
    "print(f'B X A: {B@A}')"
   ]
  },
  {
   "cell_type": "markdown",
   "metadata": {},
   "source": [
    "#### Properties of Matrix Multiplication\n",
    "\n",
    "- (kA)B = k(AB) = A(kB); or simply kAB\n",
    "\n",
    "Associative Law\n",
    "- A(BC) = (AB)C; simply ABC\n",
    "\n",
    "Distributive Law\n",
    "- (A+B)C = AC + BC\n",
    "- C(A+B) = CA + CB"
   ]
  },
  {
   "cell_type": "code",
   "execution_count": 10,
   "metadata": {},
   "outputs": [
    {
     "name": "stdout",
     "output_type": "stream",
     "text": [
      "Matrix A:\n",
      " [[-2  2  0]\n",
      " [-3 -5  6]]\n",
      "\n",
      "A.T =\n",
      " [[-2 -3]\n",
      " [ 2 -5]\n",
      " [ 0  6]]\n",
      "\n",
      "Matrix B:\n",
      " [[ 4]\n",
      " [-9]\n",
      " [-9]]\n",
      "\n",
      "B.T =\n",
      " [[ 4 -9 -9]]\n"
     ]
    }
   ],
   "source": [
    "# Transpose of Matrices and Vectors(row or column matrices)\n",
    "\n",
    "A = np.random.randint(low=-10,high=10,size=(2,3))\n",
    "print(f'Matrix A:\\n {A}\\n')\n",
    "# Transpose of Matrix A is\n",
    "print(f'A.T =\\n {A.T}\\n')\n",
    "\n",
    "B = np.random.randint(-10,10,(3,1))\n",
    "print(f'Matrix B:\\n {B}\\n')\n",
    "# Transpose of Matrix B is\n",
    "print(f'B.T =\\n {B.T}')\n"
   ]
  },
  {
   "cell_type": "markdown",
   "metadata": {},
   "source": [
    "#### Rules for transposition:\n",
    "\n",
    "- (A.T).T = A\n",
    "- (A+B).T = B.T + A.T\n",
    "- (cA).T = c(A.T)\n",
    "- (AB).T = (B.T) x (A.T)"
   ]
  },
  {
   "cell_type": "code",
   "execution_count": 11,
   "metadata": {},
   "outputs": [
    {
     "name": "stdout",
     "output_type": "stream",
     "text": [
      "Matrix A:\n",
      " [[20 10  5]\n",
      " [10  2  4]\n",
      " [ 5  4 -1]]\n",
      "\n",
      "A.T =\n",
      " [[20 10  5]\n",
      " [10  2  4]\n",
      " [ 5  4 -1]]\n",
      "\n",
      "True\n"
     ]
    }
   ],
   "source": [
    "# Symmetric Matrix\n",
    "# A.T = A\n",
    "# symmetric along principal diagonal\n",
    "\n",
    "A = np.array([[20,10,5],\n",
    "             [10, 2, 4],\n",
    "             [5,4,-1]])\n",
    "print(f'Matrix A:\\n {A}\\n')\n",
    "\n",
    "# Transpose of Matrix A is\n",
    "print(f'A.T =\\n {A.T}\\n')\n",
    "\n",
    "#for the given A, is A.T == A ?\n",
    "print((A.T==A).all())"
   ]
  },
  {
   "cell_type": "code",
   "execution_count": 12,
   "metadata": {},
   "outputs": [
    {
     "name": "stdout",
     "output_type": "stream",
     "text": [
      "Matrix A:\n",
      " [[  0  10  -5]\n",
      " [-10   0  -4]\n",
      " [  5   4   0]]\n",
      "\n",
      "A.T =\n",
      " [[  0 -10   5]\n",
      " [ 10   0   4]\n",
      " [ -5  -4   0]]\n",
      "\n",
      "is A.T == A: False\n",
      "\n",
      "is A.T == -A: True\n",
      "\n"
     ]
    }
   ],
   "source": [
    "# skew-symmetric matrix\n",
    "# A.T = -A\n",
    "# diagonal elements are zero and other elements are additive inverses over the 'zero' diagonal.\n",
    "A = np.array([[0,10,-5],\n",
    "             [-10, 0, -4],\n",
    "             [5,4,0]])\n",
    "print(f'Matrix A:\\n {A}\\n')\n",
    "\n",
    "# Transpose of Matrix A is\n",
    "print(f'A.T =\\n {A.T}\\n')\n",
    "\n",
    "#for the given A, is A.T == A ?\n",
    "print(f\"is A.T == A: {(A.T==A).all()}\",end='\\n\\n')\n",
    "\n",
    "#for the given A, is A.T == A ?\n",
    "print(f\"is A.T == -A: {(A.T==-A).all()}\",end='\\n\\n')\n"
   ]
  },
  {
   "cell_type": "code",
   "execution_count": 14,
   "metadata": {},
   "outputs": [
    {
     "name": "stdout",
     "output_type": "stream",
     "text": [
      "Matrix A:\n",
      " [[-1 -6 -7]\n",
      " [-7  9 -9]\n",
      " [ 2  9 -4]]\n",
      "\n",
      "A.T =\n",
      " [[-1 -7  2]\n",
      " [-6  9  9]\n",
      " [-7 -9 -4]]\n",
      "\n",
      "A X A.T = \n",
      " [[ 86  16 -28]\n",
      " [ 16 211 103]\n",
      " [-28 103 101]]\n",
      "\n",
      "is A x A.T == (AxA.T).T :\n",
      " True\n",
      "\n"
     ]
    }
   ],
   "source": [
    "# How to generate a symmetric matrix given any square matrix?\n",
    "# If given matrix A. Then, A X (A.T)  is always symmetric.\n",
    "\n",
    "A = np.random.randint(low=-10,high=10,size=(3,3))\n",
    "print(f'Matrix A:\\n {A}\\n')\n",
    "# Transpose of Matrix A is\n",
    "print(f'A.T =\\n {A.T}\\n')\n",
    "\n",
    "# A X A.T\n",
    "\n",
    "print(f'A X A.T = \\n {A@A.T}\\n')\n",
    "\n",
    "#for the given A, is A.T == A ?\n",
    "print(f\"is A x A.T == (AxA.T).T :\\n {(A@A.T==(A@A.T).T).all()}\",end='\\n\\n')\n"
   ]
  },
  {
   "cell_type": "code",
   "execution_count": 44,
   "metadata": {},
   "outputs": [
    {
     "data": {
      "text/plain": [
       "array([[-0.7063197 ],\n",
       "       [-0.9739777 ],\n",
       "       [-0.26394052]])"
      ]
     },
     "execution_count": 44,
     "metadata": {},
     "output_type": "execute_result"
    }
   ],
   "source": [
    "### Solving system of linear equations\n",
    "# AX = B\n",
    "# X = inverse(A) B\n",
    "\n",
    "A = np.array([[-1, -1, -5],\n",
    "       [ 6, -9,  2],\n",
    "       [-7,  0, -4]])\n",
    "\n",
    "B = np.array([[3],\n",
    "              [4],\n",
    "              [6]])\n",
    "\n",
    "X = np.linalg.inv(A) @ B\n",
    "X"
   ]
  },
  {
   "cell_type": "code",
   "execution_count": 48,
   "metadata": {},
   "outputs": [
    {
     "name": "stdout",
     "output_type": "stream",
     "text": [
      "2.001 * 2.0001 = 4.0022001000000005\n",
      "\n",
      "AX:\n",
      " [[3.]\n",
      " [4.]\n",
      " [6.]]\n",
      "\n",
      "B:\n",
      " [[3]\n",
      " [4]\n",
      " [6]]\n",
      "\n",
      "A@X == B :\n",
      " [[ True]\n",
      " [False]\n",
      " [False]]\n"
     ]
    }
   ],
   "source": [
    "# comparing float values gives errors(not recommended)\n",
    "# calculations involving floats will induce small errors\n",
    "print(f'2.001 * 2.0001 = {2.001 * 2.0001}\\n')\n",
    "\n",
    "print(f'AX:\\n {A@X}\\n')\n",
    "print(f'B:\\n {B}\\n')\n",
    "\n",
    "print(f'A@X == B :\\n {A@X == B}')"
   ]
  },
  {
   "cell_type": "code",
   "execution_count": 37,
   "metadata": {},
   "outputs": [
    {
     "data": {
      "text/plain": [
       "array([[ True],\n",
       "       [ True],\n",
       "       [ True]])"
      ]
     },
     "execution_count": 37,
     "metadata": {},
     "output_type": "execute_result"
    }
   ],
   "source": [
    "np.round(A@X) == np.round(B)"
   ]
  },
  {
   "cell_type": "code",
   "execution_count": 60,
   "metadata": {
    "scrolled": false
   },
   "outputs": [
    {
     "name": "stdout",
     "output_type": "stream",
     "text": [
      "LinAlgError\n",
      "Last 2 dimensions of the array must be square\n"
     ]
    }
   ],
   "source": [
    "# System of linear equations with no solution\n",
    "\n",
    "A = np.array([[3,2,1],\n",
    "             [0, -0.33, 0.33],\n",
    "             [0, -2, 2]])\n",
    "B = np.array([[3],\n",
    "             [-2],\n",
    "             [0]])\n",
    "\n",
    "# Raises error\n",
    "try:\n",
    "    X = np.linalg.inv(A@B)\n",
    "except Exception as e:\n",
    "    print(e.__class__.__name__)\n",
    "    print(e)"
   ]
  },
  {
   "cell_type": "code",
   "execution_count": null,
   "metadata": {},
   "outputs": [],
   "source": []
  },
  {
   "cell_type": "code",
   "execution_count": null,
   "metadata": {},
   "outputs": [],
   "source": []
  }
 ],
 "metadata": {
  "kernelspec": {
   "display_name": "Python [conda env:lin_algebra] *",
   "language": "python",
   "name": "conda-env-lin_algebra-py"
  },
  "language_info": {
   "codemirror_mode": {
    "name": "ipython",
    "version": 3
   },
   "file_extension": ".py",
   "mimetype": "text/x-python",
   "name": "python",
   "nbconvert_exporter": "python",
   "pygments_lexer": "ipython3",
   "version": "3.7.7"
  },
  "toc": {
   "base_numbering": 1,
   "nav_menu": {},
   "number_sections": true,
   "sideBar": true,
   "skip_h1_title": false,
   "title_cell": "Table of Contents",
   "title_sidebar": "Contents",
   "toc_cell": false,
   "toc_position": {},
   "toc_section_display": true,
   "toc_window_display": false
  }
 },
 "nbformat": 4,
 "nbformat_minor": 4
}
